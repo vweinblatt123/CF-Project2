{
 "cells": [
  {
   "cell_type": "code",
   "execution_count": 1,
   "metadata": {},
   "outputs": [],
   "source": [
    "import pandas as pd\n",
    "import numpy as np\n",
    "from pathlib import Path\n",
    "from sklearn import preprocessing\n",
    "from sklearn.model_selection import train_test_split\n",
    "from sklearn.linear_model import Lasso\n",
    "%matplotlib inline\n",
    "\n",
    "import matplotlib as mpl\n",
    "import matplotlib.pyplot as plt\n",
    "from matplotlib import style\n",
    "from datetime import datetime, timedelta"
   ]
  },
  {
   "cell_type": "code",
   "execution_count": 2,
   "metadata": {},
   "outputs": [],
   "source": [
    "file_path = Path(\"all_features.csv\")\n",
    "combined_df = pd.read_csv(file_path, infer_datetime_format = True, parse_dates = True, index_col = \"date_time\")\n",
    "combined_df.sort_index(inplace=True)"
   ]
  },
  {
   "cell_type": "code",
   "execution_count": 3,
   "metadata": {},
   "outputs": [
    {
     "data": {
      "text/html": [
       "<div>\n",
       "<style scoped>\n",
       "    .dataframe tbody tr th:only-of-type {\n",
       "        vertical-align: middle;\n",
       "    }\n",
       "\n",
       "    .dataframe tbody tr th {\n",
       "        vertical-align: top;\n",
       "    }\n",
       "\n",
       "    .dataframe thead th {\n",
       "        text-align: right;\n",
       "    }\n",
       "</style>\n",
       "<table border=\"1\" class=\"dataframe\">\n",
       "  <thead>\n",
       "    <tr style=\"text-align: right;\">\n",
       "      <th></th>\n",
       "      <th>close</th>\n",
       "      <th>vol</th>\n",
       "      <th>spy</th>\n",
       "      <th>return</th>\n",
       "      <th>Beta</th>\n",
       "      <th>WR</th>\n",
       "      <th>RSI</th>\n",
       "      <th>OBV</th>\n",
       "      <th>sentiment_vader</th>\n",
       "      <th>sentiment_rnn</th>\n",
       "      <th>us2y10y</th>\n",
       "      <th>vix</th>\n",
       "      <th>usdjpy</th>\n",
       "    </tr>\n",
       "    <tr>\n",
       "      <th>date_time</th>\n",
       "      <th></th>\n",
       "      <th></th>\n",
       "      <th></th>\n",
       "      <th></th>\n",
       "      <th></th>\n",
       "      <th></th>\n",
       "      <th></th>\n",
       "      <th></th>\n",
       "      <th></th>\n",
       "      <th></th>\n",
       "      <th></th>\n",
       "      <th></th>\n",
       "      <th></th>\n",
       "    </tr>\n",
       "  </thead>\n",
       "  <tbody>\n",
       "    <tr>\n",
       "      <th>2021-01-28 09:30:00</th>\n",
       "      <td>290.00</td>\n",
       "      <td>719438</td>\n",
       "      <td>376.50</td>\n",
       "      <td>-0.159420</td>\n",
       "      <td>-5.021900</td>\n",
       "      <td>-3.846154</td>\n",
       "      <td>24.616808</td>\n",
       "      <td>1063543.0</td>\n",
       "      <td>-1.0</td>\n",
       "      <td>-1.0</td>\n",
       "      <td>91.536</td>\n",
       "      <td>30.21</td>\n",
       "      <td>104.36</td>\n",
       "    </tr>\n",
       "    <tr>\n",
       "      <th>2021-01-28 09:31:00</th>\n",
       "      <td>300.16</td>\n",
       "      <td>48204</td>\n",
       "      <td>376.78</td>\n",
       "      <td>0.035034</td>\n",
       "      <td>-4.692537</td>\n",
       "      <td>-100.000000</td>\n",
       "      <td>29.976045</td>\n",
       "      <td>1111747.0</td>\n",
       "      <td>1.0</td>\n",
       "      <td>1.0</td>\n",
       "      <td>91.536</td>\n",
       "      <td>30.17</td>\n",
       "      <td>104.33</td>\n",
       "    </tr>\n",
       "    <tr>\n",
       "      <th>2021-01-28 09:32:00</th>\n",
       "      <td>300.16</td>\n",
       "      <td>48204</td>\n",
       "      <td>376.76</td>\n",
       "      <td>0.000000</td>\n",
       "      <td>-4.693024</td>\n",
       "      <td>-82.237762</td>\n",
       "      <td>30.142002</td>\n",
       "      <td>1159951.0</td>\n",
       "      <td>0.0</td>\n",
       "      <td>0.0</td>\n",
       "      <td>91.536</td>\n",
       "      <td>30.24</td>\n",
       "      <td>104.31</td>\n",
       "    </tr>\n",
       "    <tr>\n",
       "      <th>2021-01-28 09:33:00</th>\n",
       "      <td>300.16</td>\n",
       "      <td>48204</td>\n",
       "      <td>377.04</td>\n",
       "      <td>0.000000</td>\n",
       "      <td>-4.658830</td>\n",
       "      <td>-82.237762</td>\n",
       "      <td>30.632934</td>\n",
       "      <td>1208155.0</td>\n",
       "      <td>0.0</td>\n",
       "      <td>0.0</td>\n",
       "      <td>91.706</td>\n",
       "      <td>29.96</td>\n",
       "      <td>104.30</td>\n",
       "    </tr>\n",
       "    <tr>\n",
       "      <th>2021-01-28 09:34:00</th>\n",
       "      <td>300.16</td>\n",
       "      <td>48204</td>\n",
       "      <td>376.83</td>\n",
       "      <td>0.000000</td>\n",
       "      <td>-4.686281</td>\n",
       "      <td>-82.237762</td>\n",
       "      <td>31.696730</td>\n",
       "      <td>1256359.0</td>\n",
       "      <td>0.0</td>\n",
       "      <td>0.0</td>\n",
       "      <td>91.875</td>\n",
       "      <td>29.75</td>\n",
       "      <td>104.31</td>\n",
       "    </tr>\n",
       "  </tbody>\n",
       "</table>\n",
       "</div>"
      ],
      "text/plain": [
       "                      close     vol     spy    return      Beta          WR  \\\n",
       "date_time                                                                     \n",
       "2021-01-28 09:30:00  290.00  719438  376.50 -0.159420 -5.021900   -3.846154   \n",
       "2021-01-28 09:31:00  300.16   48204  376.78  0.035034 -4.692537 -100.000000   \n",
       "2021-01-28 09:32:00  300.16   48204  376.76  0.000000 -4.693024  -82.237762   \n",
       "2021-01-28 09:33:00  300.16   48204  377.04  0.000000 -4.658830  -82.237762   \n",
       "2021-01-28 09:34:00  300.16   48204  376.83  0.000000 -4.686281  -82.237762   \n",
       "\n",
       "                           RSI        OBV  sentiment_vader  sentiment_rnn  \\\n",
       "date_time                                                                   \n",
       "2021-01-28 09:30:00  24.616808  1063543.0             -1.0           -1.0   \n",
       "2021-01-28 09:31:00  29.976045  1111747.0              1.0            1.0   \n",
       "2021-01-28 09:32:00  30.142002  1159951.0              0.0            0.0   \n",
       "2021-01-28 09:33:00  30.632934  1208155.0              0.0            0.0   \n",
       "2021-01-28 09:34:00  31.696730  1256359.0              0.0            0.0   \n",
       "\n",
       "                     us2y10y    vix  usdjpy  \n",
       "date_time                                    \n",
       "2021-01-28 09:30:00   91.536  30.21  104.36  \n",
       "2021-01-28 09:31:00   91.536  30.17  104.33  \n",
       "2021-01-28 09:32:00   91.536  30.24  104.31  \n",
       "2021-01-28 09:33:00   91.706  29.96  104.30  \n",
       "2021-01-28 09:34:00   91.875  29.75  104.31  "
      ]
     },
     "execution_count": 3,
     "metadata": {},
     "output_type": "execute_result"
    }
   ],
   "source": [
    "combined_df.head()"
   ]
  },
  {
   "cell_type": "code",
   "execution_count": 4,
   "metadata": {},
   "outputs": [],
   "source": [
    "combined_df['target_return'] = combined_df['close'].shift(-1)\n",
    "combined_df = combined_df.dropna()"
   ]
  },
  {
   "cell_type": "code",
   "execution_count": 5,
   "metadata": {},
   "outputs": [],
   "source": [
    "#combined_df"
   ]
  },
  {
   "cell_type": "code",
   "execution_count": 6,
   "metadata": {},
   "outputs": [],
   "source": [
    "X = combined_df[['return', 'Beta', 'WR', 'RSI', 'OBV', 'sentiment_vader', 'sentiment_rnn', 'us2y10y', 'vix', 'usdjpy']]"
   ]
  },
  {
   "cell_type": "code",
   "execution_count": 7,
   "metadata": {},
   "outputs": [],
   "source": [
    "#y = combined_df[['target_return']]\n",
    "target = combined_df.iloc[:,13]\n",
    "y = target.values.reshape(-1, 1)\n"
   ]
  },
  {
   "cell_type": "code",
   "execution_count": 8,
   "metadata": {},
   "outputs": [],
   "source": [
    "split = int(0.7 * len(X))\n",
    "\n",
    "X_train = X[: split]\n",
    "X_test = X[split:]\n",
    "\n",
    "y_train = y[: split]\n",
    "y_test = y[split:]"
   ]
  },
  {
   "cell_type": "code",
   "execution_count": 9,
   "metadata": {},
   "outputs": [],
   "source": [
    "# Importing the MinMaxScaler from sklearn\n",
    "from sklearn.preprocessing import MinMaxScaler\n",
    "\n",
    "# Create a MinMaxScaler object\n",
    "scaler = MinMaxScaler()\n",
    "\n",
    "# Fit the MinMaxScaler object with the features data X\n",
    "scaler.fit(X_train)\n",
    "\n",
    "# Scale the features training and testing sets\n",
    "X_train = scaler.transform(X_train)\n",
    "X_test = scaler.transform(X_test)\n",
    "\n",
    "# Fit the MinMaxScaler object with the target data Y\n",
    "scaler.fit(y_train)\n",
    "\n",
    "# Scale the target training and testing sets\n",
    "y_train = scaler.transform(y_train)\n",
    "y_test = scaler.transform(y_test)"
   ]
  },
  {
   "cell_type": "code",
   "execution_count": 10,
   "metadata": {},
   "outputs": [
    {
     "name": "stdout",
     "output_type": "stream",
     "text": [
      "Lasso Model score: -2.748290738537379\n"
     ]
    }
   ],
   "source": [
    "# define model #https://github.com/iambharathvaj/Stock-Price-Prediction/blob/master/Apple%20-%20Stock%20Price%20Prediction.ipynb\n",
    "lasso_model = Lasso(alpha=0.0005, copy_X=True, fit_intercept=False, max_iter=10000,\n",
    "      normalize=False, positive=False, precompute=False, random_state=None,\n",
    "      selection='random', tol=0.0001, warm_start=False)\n",
    "\n",
    "lasso_model.fit(X_train, y_train)\n",
    "\n",
    "# Score of the Lasso Regression Model (Using the Test Data)\n",
    "lasso_model_score = lasso_model.score(X_test, y_test)\n",
    "print('Lasso Model score:', lasso_model_score)"
   ]
  },
  {
   "cell_type": "code",
   "execution_count": 11,
   "metadata": {},
   "outputs": [],
   "source": [
    "# Define the Real & Prediction Values\n",
    "\n",
    "#lasso_model_predict_prediction = lasso_model.predict(X_test)\n",
    "#lasso_model_real_prediction = lasso_model.predict(y_test)"
   ]
  },
  {
   "cell_type": "code",
   "execution_count": 12,
   "metadata": {},
   "outputs": [
    {
     "data": {
      "text/plain": [
       "0.015711776120106696"
      ]
     },
     "execution_count": 12,
     "metadata": {},
     "output_type": "execute_result"
    }
   ],
   "source": [
    "from sklearn.metrics import mean_squared_error\n",
    "mean_squared_error(y_test, lasso_model.predict(X_test))"
   ]
  },
  {
   "cell_type": "code",
   "execution_count": 13,
   "metadata": {},
   "outputs": [],
   "source": [
    "y_pred = lasso_model.predict(X_test)"
   ]
  },
  {
   "cell_type": "code",
   "execution_count": 14,
   "metadata": {},
   "outputs": [
    {
     "data": {
      "text/plain": [
       "array([0.32499166, 0.32320722, 0.3236212 , ..., 0.33126706, 0.32666774,\n",
       "       0.32206507])"
      ]
     },
     "execution_count": 14,
     "metadata": {},
     "output_type": "execute_result"
    }
   ],
   "source": [
    "y_pred"
   ]
  },
  {
   "cell_type": "code",
   "execution_count": 15,
   "metadata": {},
   "outputs": [],
   "source": [
    "output = pd.DataFrame({\"target\": y_test.ravel(), \"estimated\": y_pred})"
   ]
  },
  {
   "cell_type": "code",
   "execution_count": 16,
   "metadata": {},
   "outputs": [],
   "source": [
    "predicted_prices = scaler.inverse_transform(y_pred.reshape(-1,1))\n",
    "real_prices = scaler.inverse_transform(y_test)"
   ]
  },
  {
   "cell_type": "code",
   "execution_count": 17,
   "metadata": {},
   "outputs": [
    {
     "data": {
      "text/html": [
       "<div>\n",
       "<style scoped>\n",
       "    .dataframe tbody tr th:only-of-type {\n",
       "        vertical-align: middle;\n",
       "    }\n",
       "\n",
       "    .dataframe tbody tr th {\n",
       "        vertical-align: top;\n",
       "    }\n",
       "\n",
       "    .dataframe thead th {\n",
       "        text-align: right;\n",
       "    }\n",
       "</style>\n",
       "<table border=\"1\" class=\"dataframe\">\n",
       "  <thead>\n",
       "    <tr style=\"text-align: right;\">\n",
       "      <th></th>\n",
       "      <th>Real</th>\n",
       "      <th>Predicted</th>\n",
       "    </tr>\n",
       "    <tr>\n",
       "      <th>date_time</th>\n",
       "      <th></th>\n",
       "      <th></th>\n",
       "    </tr>\n",
       "  </thead>\n",
       "  <tbody>\n",
       "    <tr>\n",
       "      <th>2021-03-12 14:41:00</th>\n",
       "      <td>274.890</td>\n",
       "      <td>178.551833</td>\n",
       "    </tr>\n",
       "    <tr>\n",
       "      <th>2021-03-12 14:42:00</th>\n",
       "      <td>275.196</td>\n",
       "      <td>177.782901</td>\n",
       "    </tr>\n",
       "    <tr>\n",
       "      <th>2021-03-12 14:43:00</th>\n",
       "      <td>276.027</td>\n",
       "      <td>177.961287</td>\n",
       "    </tr>\n",
       "    <tr>\n",
       "      <th>2021-03-12 14:44:00</th>\n",
       "      <td>277.130</td>\n",
       "      <td>178.199810</td>\n",
       "    </tr>\n",
       "    <tr>\n",
       "      <th>2021-03-12 14:45:00</th>\n",
       "      <td>278.156</td>\n",
       "      <td>180.050050</td>\n",
       "    </tr>\n",
       "  </tbody>\n",
       "</table>\n",
       "</div>"
      ],
      "text/plain": [
       "                        Real   Predicted\n",
       "date_time                               \n",
       "2021-03-12 14:41:00  274.890  178.551833\n",
       "2021-03-12 14:42:00  275.196  177.782901\n",
       "2021-03-12 14:43:00  276.027  177.961287\n",
       "2021-03-12 14:44:00  277.130  178.199810\n",
       "2021-03-12 14:45:00  278.156  180.050050"
      ]
     },
     "execution_count": 17,
     "metadata": {},
     "output_type": "execute_result"
    }
   ],
   "source": [
    "stocks = pd.DataFrame({\n",
    "    \"Real\": real_prices.ravel(),\n",
    "    \"Predicted\": predicted_prices.ravel()\n",
    "    }, index = combined_df.index[-len(real_prices): ])\n",
    "stocks.head()"
   ]
  },
  {
   "cell_type": "code",
   "execution_count": 18,
   "metadata": {},
   "outputs": [
    {
     "data": {
      "text/plain": [
       "<matplotlib.axes._subplots.AxesSubplot at 0x1b3b9a20188>"
      ]
     },
     "execution_count": 18,
     "metadata": {},
     "output_type": "execute_result"
    },
    {
     "data": {
      "image/png": "[encoded data removed]",
      "text/plain": [
       "<Figure size 432x288 with 1 Axes>"
      ]
     },
     "metadata": {
      "needs_background": "light"
     },
     "output_type": "display_data"
    }
   ],
   "source": [
    "stocks.plot()"
   ]
  },
  {
   "cell_type": "code",
   "execution_count": 19,
   "metadata": {},
   "outputs": [
    {
     "data": {
      "text/plain": [
       "array([[274.89 ],\n",
       "       [275.196],\n",
       "       [276.027],\n",
       "       ...,\n",
       "       [191.951],\n",
       "       [191.13 ],\n",
       "       [190.01 ]])"
      ]
     },
     "execution_count": 19,
     "metadata": {},
     "output_type": "execute_result"
    }
   ],
   "source": [
    "real_prices"
   ]
  },
  {
   "cell_type": "code",
   "execution_count": 20,
   "metadata": {},
   "outputs": [
    {
     "data": {
      "text/html": [
       "<div>\n",
       "<style scoped>\n",
       "    .dataframe tbody tr th:only-of-type {\n",
       "        vertical-align: middle;\n",
       "    }\n",
       "\n",
       "    .dataframe tbody tr th {\n",
       "        vertical-align: top;\n",
       "    }\n",
       "\n",
       "    .dataframe thead th {\n",
       "        text-align: right;\n",
       "    }\n",
       "</style>\n",
       "<table border=\"1\" class=\"dataframe\">\n",
       "  <thead>\n",
       "    <tr style=\"text-align: right;\">\n",
       "      <th></th>\n",
       "      <th>close</th>\n",
       "      <th>vol</th>\n",
       "      <th>spy</th>\n",
       "      <th>return</th>\n",
       "      <th>Beta</th>\n",
       "      <th>WR</th>\n",
       "      <th>RSI</th>\n",
       "      <th>OBV</th>\n",
       "      <th>sentiment_vader</th>\n",
       "      <th>sentiment_rnn</th>\n",
       "      <th>us2y10y</th>\n",
       "      <th>vix</th>\n",
       "      <th>usdjpy</th>\n",
       "      <th>target_return</th>\n",
       "    </tr>\n",
       "    <tr>\n",
       "      <th>date_time</th>\n",
       "      <th></th>\n",
       "      <th></th>\n",
       "      <th></th>\n",
       "      <th></th>\n",
       "      <th></th>\n",
       "      <th></th>\n",
       "      <th></th>\n",
       "      <th></th>\n",
       "      <th></th>\n",
       "      <th></th>\n",
       "      <th></th>\n",
       "      <th></th>\n",
       "      <th></th>\n",
       "      <th></th>\n",
       "    </tr>\n",
       "  </thead>\n",
       "  <tbody>\n",
       "    <tr>\n",
       "      <th>2021-03-31 15:54:00</th>\n",
       "      <td>192.451</td>\n",
       "      <td>19272</td>\n",
       "      <td>396.600</td>\n",
       "      <td>0.001306</td>\n",
       "      <td>2.914251</td>\n",
       "      <td>-9.956367</td>\n",
       "      <td>72.658641</td>\n",
       "      <td>67663735.0</td>\n",
       "      <td>0.0</td>\n",
       "      <td>0.0</td>\n",
       "      <td>157.321</td>\n",
       "      <td>18.89</td>\n",
       "      <td>110.75</td>\n",
       "      <td>191.980</td>\n",
       "    </tr>\n",
       "    <tr>\n",
       "      <th>2021-03-31 15:55:00</th>\n",
       "      <td>191.980</td>\n",
       "      <td>15778</td>\n",
       "      <td>396.345</td>\n",
       "      <td>-0.002447</td>\n",
       "      <td>2.943117</td>\n",
       "      <td>0.000000</td>\n",
       "      <td>70.208991</td>\n",
       "      <td>67647957.0</td>\n",
       "      <td>0.0</td>\n",
       "      <td>0.0</td>\n",
       "      <td>157.142</td>\n",
       "      <td>19.01</td>\n",
       "      <td>110.73</td>\n",
       "      <td>191.960</td>\n",
       "    </tr>\n",
       "    <tr>\n",
       "      <th>2021-03-31 15:56:00</th>\n",
       "      <td>191.960</td>\n",
       "      <td>13801</td>\n",
       "      <td>396.520</td>\n",
       "      <td>-0.000104</td>\n",
       "      <td>2.864469</td>\n",
       "      <td>-27.447552</td>\n",
       "      <td>63.737565</td>\n",
       "      <td>67634156.0</td>\n",
       "      <td>0.0</td>\n",
       "      <td>0.0</td>\n",
       "      <td>156.964</td>\n",
       "      <td>18.99</td>\n",
       "      <td>110.73</td>\n",
       "      <td>191.951</td>\n",
       "    </tr>\n",
       "    <tr>\n",
       "      <th>2021-03-31 15:57:00</th>\n",
       "      <td>191.951</td>\n",
       "      <td>21260</td>\n",
       "      <td>396.520</td>\n",
       "      <td>-0.000047</td>\n",
       "      <td>2.920564</td>\n",
       "      <td>-28.613054</td>\n",
       "      <td>60.113960</td>\n",
       "      <td>67612896.0</td>\n",
       "      <td>0.0</td>\n",
       "      <td>0.0</td>\n",
       "      <td>157.142</td>\n",
       "      <td>18.97</td>\n",
       "      <td>110.73</td>\n",
       "      <td>191.130</td>\n",
       "    </tr>\n",
       "    <tr>\n",
       "      <th>2021-03-31 15:58:00</th>\n",
       "      <td>191.130</td>\n",
       "      <td>20765</td>\n",
       "      <td>396.830</td>\n",
       "      <td>-0.004277</td>\n",
       "      <td>2.420114</td>\n",
       "      <td>-29.137529</td>\n",
       "      <td>52.606528</td>\n",
       "      <td>67592131.0</td>\n",
       "      <td>0.0</td>\n",
       "      <td>0.0</td>\n",
       "      <td>157.142</td>\n",
       "      <td>18.95</td>\n",
       "      <td>110.72</td>\n",
       "      <td>190.010</td>\n",
       "    </tr>\n",
       "  </tbody>\n",
       "</table>\n",
       "</div>"
      ],
      "text/plain": [
       "                       close    vol      spy    return      Beta         WR  \\\n",
       "date_time                                                                     \n",
       "2021-03-31 15:54:00  192.451  19272  396.600  0.001306  2.914251  -9.956367   \n",
       "2021-03-31 15:55:00  191.980  15778  396.345 -0.002447  2.943117   0.000000   \n",
       "2021-03-31 15:56:00  191.960  13801  396.520 -0.000104  2.864469 -27.447552   \n",
       "2021-03-31 15:57:00  191.951  21260  396.520 -0.000047  2.920564 -28.613054   \n",
       "2021-03-31 15:58:00  191.130  20765  396.830 -0.004277  2.420114 -29.137529   \n",
       "\n",
       "                           RSI         OBV  sentiment_vader  sentiment_rnn  \\\n",
       "date_time                                                                    \n",
       "2021-03-31 15:54:00  72.658641  67663735.0              0.0            0.0   \n",
       "2021-03-31 15:55:00  70.208991  67647957.0              0.0            0.0   \n",
       "2021-03-31 15:56:00  63.737565  67634156.0              0.0            0.0   \n",
       "2021-03-31 15:57:00  60.113960  67612896.0              0.0            0.0   \n",
       "2021-03-31 15:58:00  52.606528  67592131.0              0.0            0.0   \n",
       "\n",
       "                     us2y10y    vix  usdjpy  target_return  \n",
       "date_time                                                   \n",
       "2021-03-31 15:54:00  157.321  18.89  110.75        191.980  \n",
       "2021-03-31 15:55:00  157.142  19.01  110.73        191.960  \n",
       "2021-03-31 15:56:00  156.964  18.99  110.73        191.951  \n",
       "2021-03-31 15:57:00  157.142  18.97  110.73        191.130  \n",
       "2021-03-31 15:58:00  157.142  18.95  110.72        190.010  "
      ]
     },
     "execution_count": 20,
     "metadata": {},
     "output_type": "execute_result"
    }
   ],
   "source": [
    "combined_df.tail()"
   ]
  },
  {
   "cell_type": "code",
   "execution_count": 21,
   "metadata": {},
   "outputs": [
    {
     "data": {
      "text/plain": [
       "array([190.01])"
      ]
     },
     "execution_count": 21,
     "metadata": {},
     "output_type": "execute_result"
    }
   ],
   "source": [
    "real_prices[-1]"
   ]
  },
  {
   "cell_type": "code",
   "execution_count": 23,
   "metadata": {},
   "outputs": [
    {
     "data": {
      "text/plain": [
       "array([ 0.        , -0.14144485,  0.01167988,  0.04156271,  0.50576332,\n",
       "        0.00559809,  0.        , -0.65622206,  0.59700956,  0.51119043])"
      ]
     },
     "execution_count": 23,
     "metadata": {},
     "output_type": "execute_result"
    }
   ],
   "source": [
    "importance = lasso_model.coef_\n",
    "lasso_model.fit(X_train, y_train)\n",
    "importance\n"
   ]
  },
  {
   "cell_type": "code",
   "execution_count": 24,
   "metadata": {},
   "outputs": [
    {
     "name": "stdout",
     "output_type": "stream",
     "text": [
      "Feature: 0, Score: 0.00000\n",
      "Feature: 1, Score: -0.14144\n",
      "Feature: 2, Score: 0.01168\n",
      "Feature: 3, Score: 0.04156\n",
      "Feature: 4, Score: 0.50576\n",
      "Feature: 5, Score: 0.00560\n",
      "Feature: 6, Score: 0.00000\n",
      "Feature: 7, Score: -0.65622\n",
      "Feature: 8, Score: 0.59701\n",
      "Feature: 9, Score: 0.51119\n"
     ]
    }
   ],
   "source": [
    "for i,v in enumerate(importance):\n",
    "\tprint('Feature: %0d, Score: %.5f' % (i,v))"
   ]
  },
  {
   "cell_type": "code",
   "execution_count": 26,
   "metadata": {},
   "outputs": [
    {
     "data": {
      "image/png": "[encoded data removed]",
      "text/plain": [
       "<Figure size 432x288 with 1 Axes>"
      ]
     },
     "metadata": {
      "needs_background": "light"
     },
     "output_type": "display_data"
    }
   ],
   "source": [
    "# plot feature importance\n",
    "plt.bar([x for x in range(len(importance))], importance)\n",
    "plt.show()"
   ]
  },
  {
   "cell_type": "code",
   "execution_count": null,
   "metadata": {},
   "outputs": [],
   "source": []
  }
 ],
 "metadata": {
  "kernelspec": {
   "display_name": "Python [conda env:pyvizenv]",
   "language": "python",
   "name": "conda-env-pyvizenv-py"
  },
  "language_info": {
   "codemirror_mode": {
    "name": "ipython",
    "version": 3
   },
   "file_extension": ".py",
   "mimetype": "text/x-python",
   "name": "python",
   "nbconvert_exporter": "python",
   "pygments_lexer": "ipython3",
   "version": "3.7.9"
  }
 },
 "nbformat": 4,
 "nbformat_minor": 4
}
