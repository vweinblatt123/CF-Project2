{
 "cells": [
  {
   "cell_type": "code",
   "execution_count": 1,
   "metadata": {},
   "outputs": [],
   "source": [
    "import pandas as pd\n",
    "import numpy as np\n",
    "from pathlib import Path\n",
    "\n",
    "%matplotlib inline"
   ]
  },
  {
   "cell_type": "code",
   "execution_count": 2,
   "metadata": {},
   "outputs": [],
   "source": [
    "file_path = Path(\"all_features.csv\")\n",
    "combined_df = pd.read_csv(file_path, infer_datetime_format = True, parse_dates = True, index_col = \"date_time\")\n",
    "combined_df.sort_index(inplace=True)"
   ]
  },
  {
   "cell_type": "code",
   "execution_count": 3,
   "metadata": {},
   "outputs": [],
   "source": [
    "#combined_df['target_price'] = combined_df['close'].shift(-1)\n",
    "combined_df['target_return'] = combined_df['return'].shift(-1)\n",
    "combined_df = combined_df.dropna()"
   ]
  },
  {
   "cell_type": "code",
   "execution_count": 4,
   "metadata": {},
   "outputs": [
    {
     "data": {
      "text/html": [
       "<div>\n",
       "<style scoped>\n",
       "    .dataframe tbody tr th:only-of-type {\n",
       "        vertical-align: middle;\n",
       "    }\n",
       "\n",
       "    .dataframe tbody tr th {\n",
       "        vertical-align: top;\n",
       "    }\n",
       "\n",
       "    .dataframe thead th {\n",
       "        text-align: right;\n",
       "    }\n",
       "</style>\n",
       "<table border=\"1\" class=\"dataframe\">\n",
       "  <thead>\n",
       "    <tr style=\"text-align: right;\">\n",
       "      <th></th>\n",
       "      <th>close</th>\n",
       "      <th>vol</th>\n",
       "      <th>spy</th>\n",
       "      <th>return</th>\n",
       "      <th>Beta</th>\n",
       "      <th>WR</th>\n",
       "      <th>RSI</th>\n",
       "      <th>OBV</th>\n",
       "      <th>sentiment_vader</th>\n",
       "      <th>sentiment_rnn</th>\n",
       "      <th>us2y10y</th>\n",
       "      <th>vix</th>\n",
       "      <th>usdjpy</th>\n",
       "      <th>target_return</th>\n",
       "    </tr>\n",
       "    <tr>\n",
       "      <th>date_time</th>\n",
       "      <th></th>\n",
       "      <th></th>\n",
       "      <th></th>\n",
       "      <th></th>\n",
       "      <th></th>\n",
       "      <th></th>\n",
       "      <th></th>\n",
       "      <th></th>\n",
       "      <th></th>\n",
       "      <th></th>\n",
       "      <th></th>\n",
       "      <th></th>\n",
       "      <th></th>\n",
       "      <th></th>\n",
       "    </tr>\n",
       "  </thead>\n",
       "  <tbody>\n",
       "    <tr>\n",
       "      <th>2021-01-28 09:30:00</th>\n",
       "      <td>5.190</td>\n",
       "      <td>1799686</td>\n",
       "      <td>376.500</td>\n",
       "      <td>-0.217183</td>\n",
       "      <td>-11.032931</td>\n",
       "      <td>-14.215073</td>\n",
       "      <td>14.839941</td>\n",
       "      <td>161951446.0</td>\n",
       "      <td>-1.0</td>\n",
       "      <td>-1.0</td>\n",
       "      <td>91.536</td>\n",
       "      <td>30.21</td>\n",
       "      <td>104.36</td>\n",
       "      <td>0.011561</td>\n",
       "    </tr>\n",
       "    <tr>\n",
       "      <th>2021-01-28 09:31:00</th>\n",
       "      <td>5.250</td>\n",
       "      <td>747568</td>\n",
       "      <td>376.780</td>\n",
       "      <td>0.011561</td>\n",
       "      <td>-10.872930</td>\n",
       "      <td>-100.000000</td>\n",
       "      <td>16.260163</td>\n",
       "      <td>162699014.0</td>\n",
       "      <td>1.0</td>\n",
       "      <td>1.0</td>\n",
       "      <td>91.536</td>\n",
       "      <td>30.17</td>\n",
       "      <td>104.33</td>\n",
       "      <td>-0.008571</td>\n",
       "    </tr>\n",
       "    <tr>\n",
       "      <th>2021-01-28 09:32:00</th>\n",
       "      <td>5.205</td>\n",
       "      <td>1004673</td>\n",
       "      <td>376.760</td>\n",
       "      <td>-0.008571</td>\n",
       "      <td>-10.873086</td>\n",
       "      <td>-96.314949</td>\n",
       "      <td>16.024324</td>\n",
       "      <td>161694341.0</td>\n",
       "      <td>0.0</td>\n",
       "      <td>0.0</td>\n",
       "      <td>91.536</td>\n",
       "      <td>30.24</td>\n",
       "      <td>104.31</td>\n",
       "      <td>0.006724</td>\n",
       "    </tr>\n",
       "    <tr>\n",
       "      <th>2021-01-28 09:33:00</th>\n",
       "      <td>5.240</td>\n",
       "      <td>1140496</td>\n",
       "      <td>377.040</td>\n",
       "      <td>0.006724</td>\n",
       "      <td>-10.740247</td>\n",
       "      <td>-99.025974</td>\n",
       "      <td>17.502677</td>\n",
       "      <td>162834837.0</td>\n",
       "      <td>0.0</td>\n",
       "      <td>0.0</td>\n",
       "      <td>91.706</td>\n",
       "      <td>29.96</td>\n",
       "      <td>104.30</td>\n",
       "      <td>0.034351</td>\n",
       "    </tr>\n",
       "    <tr>\n",
       "      <th>2021-01-28 09:34:00</th>\n",
       "      <td>5.420</td>\n",
       "      <td>29120247</td>\n",
       "      <td>376.830</td>\n",
       "      <td>0.034351</td>\n",
       "      <td>-10.907816</td>\n",
       "      <td>-96.644295</td>\n",
       "      <td>24.007937</td>\n",
       "      <td>191955084.0</td>\n",
       "      <td>0.0</td>\n",
       "      <td>0.0</td>\n",
       "      <td>91.875</td>\n",
       "      <td>29.75</td>\n",
       "      <td>104.31</td>\n",
       "      <td>0.013838</td>\n",
       "    </tr>\n",
       "    <tr>\n",
       "      <th>...</th>\n",
       "      <td>...</td>\n",
       "      <td>...</td>\n",
       "      <td>...</td>\n",
       "      <td>...</td>\n",
       "      <td>...</td>\n",
       "      <td>...</td>\n",
       "      <td>...</td>\n",
       "      <td>...</td>\n",
       "      <td>...</td>\n",
       "      <td>...</td>\n",
       "      <td>...</td>\n",
       "      <td>...</td>\n",
       "      <td>...</td>\n",
       "      <td>...</td>\n",
       "    </tr>\n",
       "    <tr>\n",
       "      <th>2021-03-31 15:54:00</th>\n",
       "      <td>3.965</td>\n",
       "      <td>50182</td>\n",
       "      <td>396.600</td>\n",
       "      <td>0.000000</td>\n",
       "      <td>0.660383</td>\n",
       "      <td>-75.000000</td>\n",
       "      <td>37.500000</td>\n",
       "      <td>422998364.0</td>\n",
       "      <td>0.0</td>\n",
       "      <td>0.0</td>\n",
       "      <td>157.321</td>\n",
       "      <td>18.89</td>\n",
       "      <td>110.75</td>\n",
       "      <td>0.000000</td>\n",
       "    </tr>\n",
       "    <tr>\n",
       "      <th>2021-03-31 15:55:00</th>\n",
       "      <td>3.965</td>\n",
       "      <td>67617</td>\n",
       "      <td>396.345</td>\n",
       "      <td>0.000000</td>\n",
       "      <td>0.617945</td>\n",
       "      <td>-50.000000</td>\n",
       "      <td>28.571429</td>\n",
       "      <td>423065981.0</td>\n",
       "      <td>0.0</td>\n",
       "      <td>0.0</td>\n",
       "      <td>157.142</td>\n",
       "      <td>19.01</td>\n",
       "      <td>110.73</td>\n",
       "      <td>0.000000</td>\n",
       "    </tr>\n",
       "    <tr>\n",
       "      <th>2021-03-31 15:56:00</th>\n",
       "      <td>3.965</td>\n",
       "      <td>328314</td>\n",
       "      <td>396.520</td>\n",
       "      <td>0.000000</td>\n",
       "      <td>0.591079</td>\n",
       "      <td>0.000000</td>\n",
       "      <td>40.000000</td>\n",
       "      <td>423394295.0</td>\n",
       "      <td>0.0</td>\n",
       "      <td>0.0</td>\n",
       "      <td>156.964</td>\n",
       "      <td>18.99</td>\n",
       "      <td>110.73</td>\n",
       "      <td>0.000000</td>\n",
       "    </tr>\n",
       "    <tr>\n",
       "      <th>2021-03-31 15:57:00</th>\n",
       "      <td>3.965</td>\n",
       "      <td>82452</td>\n",
       "      <td>396.520</td>\n",
       "      <td>0.000000</td>\n",
       "      <td>0.570970</td>\n",
       "      <td>0.000000</td>\n",
       "      <td>50.000000</td>\n",
       "      <td>423476747.0</td>\n",
       "      <td>0.0</td>\n",
       "      <td>0.0</td>\n",
       "      <td>157.142</td>\n",
       "      <td>18.97</td>\n",
       "      <td>110.73</td>\n",
       "      <td>0.001261</td>\n",
       "    </tr>\n",
       "    <tr>\n",
       "      <th>2021-03-31 15:58:00</th>\n",
       "      <td>3.970</td>\n",
       "      <td>87043</td>\n",
       "      <td>396.830</td>\n",
       "      <td>0.001261</td>\n",
       "      <td>0.631251</td>\n",
       "      <td>-50.000000</td>\n",
       "      <td>66.964286</td>\n",
       "      <td>423563790.0</td>\n",
       "      <td>0.0</td>\n",
       "      <td>0.0</td>\n",
       "      <td>157.142</td>\n",
       "      <td>18.95</td>\n",
       "      <td>110.72</td>\n",
       "      <td>-0.001259</td>\n",
       "    </tr>\n",
       "  </tbody>\n",
       "</table>\n",
       "<p>17159 rows × 14 columns</p>\n",
       "</div>"
      ],
      "text/plain": [
       "                     close       vol      spy    return       Beta  \\\n",
       "date_time                                                            \n",
       "2021-01-28 09:30:00  5.190   1799686  376.500 -0.217183 -11.032931   \n",
       "2021-01-28 09:31:00  5.250    747568  376.780  0.011561 -10.872930   \n",
       "2021-01-28 09:32:00  5.205   1004673  376.760 -0.008571 -10.873086   \n",
       "2021-01-28 09:33:00  5.240   1140496  377.040  0.006724 -10.740247   \n",
       "2021-01-28 09:34:00  5.420  29120247  376.830  0.034351 -10.907816   \n",
       "...                    ...       ...      ...       ...        ...   \n",
       "2021-03-31 15:54:00  3.965     50182  396.600  0.000000   0.660383   \n",
       "2021-03-31 15:55:00  3.965     67617  396.345  0.000000   0.617945   \n",
       "2021-03-31 15:56:00  3.965    328314  396.520  0.000000   0.591079   \n",
       "2021-03-31 15:57:00  3.965     82452  396.520  0.000000   0.570970   \n",
       "2021-03-31 15:58:00  3.970     87043  396.830  0.001261   0.631251   \n",
       "\n",
       "                             WR        RSI          OBV  sentiment_vader  \\\n",
       "date_time                                                                  \n",
       "2021-01-28 09:30:00  -14.215073  14.839941  161951446.0             -1.0   \n",
       "2021-01-28 09:31:00 -100.000000  16.260163  162699014.0              1.0   \n",
       "2021-01-28 09:32:00  -96.314949  16.024324  161694341.0              0.0   \n",
       "2021-01-28 09:33:00  -99.025974  17.502677  162834837.0              0.0   \n",
       "2021-01-28 09:34:00  -96.644295  24.007937  191955084.0              0.0   \n",
       "...                         ...        ...          ...              ...   \n",
       "2021-03-31 15:54:00  -75.000000  37.500000  422998364.0              0.0   \n",
       "2021-03-31 15:55:00  -50.000000  28.571429  423065981.0              0.0   \n",
       "2021-03-31 15:56:00    0.000000  40.000000  423394295.0              0.0   \n",
       "2021-03-31 15:57:00    0.000000  50.000000  423476747.0              0.0   \n",
       "2021-03-31 15:58:00  -50.000000  66.964286  423563790.0              0.0   \n",
       "\n",
       "                     sentiment_rnn  us2y10y    vix  usdjpy  target_return  \n",
       "date_time                                                                  \n",
       "2021-01-28 09:30:00           -1.0   91.536  30.21  104.36       0.011561  \n",
       "2021-01-28 09:31:00            1.0   91.536  30.17  104.33      -0.008571  \n",
       "2021-01-28 09:32:00            0.0   91.536  30.24  104.31       0.006724  \n",
       "2021-01-28 09:33:00            0.0   91.706  29.96  104.30       0.034351  \n",
       "2021-01-28 09:34:00            0.0   91.875  29.75  104.31       0.013838  \n",
       "...                            ...      ...    ...     ...            ...  \n",
       "2021-03-31 15:54:00            0.0  157.321  18.89  110.75       0.000000  \n",
       "2021-03-31 15:55:00            0.0  157.142  19.01  110.73       0.000000  \n",
       "2021-03-31 15:56:00            0.0  156.964  18.99  110.73       0.000000  \n",
       "2021-03-31 15:57:00            0.0  157.142  18.97  110.73       0.001261  \n",
       "2021-03-31 15:58:00            0.0  157.142  18.95  110.72      -0.001259  \n",
       "\n",
       "[17159 rows x 14 columns]"
      ]
     },
     "execution_count": 4,
     "metadata": {},
     "output_type": "execute_result"
    }
   ],
   "source": [
    "combined_df"
   ]
  },
  {
   "cell_type": "code",
   "execution_count": 5,
   "metadata": {},
   "outputs": [],
   "source": [
    "X = combined_df[['return', 'Beta', 'WR', 'RSI', 'OBV', 'sentiment_vader', 'sentiment_rnn', 'us2y10y', 'vix', 'usdjpy']]"
   ]
  },
  {
   "cell_type": "code",
   "execution_count": 6,
   "metadata": {},
   "outputs": [],
   "source": [
    "target = combined_df.iloc[:,13]\n",
    "y = target.values.reshape(-1, 1)"
   ]
  },
  {
   "cell_type": "code",
   "execution_count": 7,
   "metadata": {},
   "outputs": [],
   "source": [
    "split = int(0.7 * len(X))\n",
    "\n",
    "X_train = X[: split]\n",
    "X_test = X[split:]\n",
    "\n",
    "y_train = y[: split]\n",
    "y_test = y[split:]"
   ]
  },
  {
   "cell_type": "code",
   "execution_count": 8,
   "metadata": {},
   "outputs": [],
   "source": [
    "# Importing the MinMaxScaler from sklearn\n",
    "from sklearn.preprocessing import MinMaxScaler\n",
    "\n",
    "# Create a MinMaxScaler object\n",
    "scaler = MinMaxScaler()\n",
    "\n",
    "# Fit the MinMaxScaler object with the features data X\n",
    "scaler.fit(X_train)\n",
    "\n",
    "# Scale the features training and testing sets\n",
    "X_train = scaler.transform(X_train)\n",
    "X_test = scaler.transform(X_test)\n",
    "\n",
    "# Fit the MinMaxScaler object with the target data Y\n",
    "scaler.fit(y_train)\n",
    "\n",
    "# Scale the target training and testing sets\n",
    "y_train = scaler.transform(y_train)\n",
    "y_test = scaler.transform(y_test)"
   ]
  },
  {
   "cell_type": "code",
   "execution_count": 9,
   "metadata": {},
   "outputs": [],
   "source": [
    "# from sklearn.experimental import enable_halving_search_cv \n",
    "# from sklearn.model_selection import HalvingRandomSearchCV\n",
    "# from sklearn.ensemble import GradientBoostingRegressor\n",
    "\n",
    "# xgb = GradientBoostingRegressor(random_state=0, loss='ls')\n",
    "\n",
    "# param_distributions = {\"max_depth\": [3, 5, 10],\n",
    "#                         \"learning_rate\": [0.01, 0.1, 0.5, 0.75],\n",
    "#                        #\"n_estimators\": [10, 100, 1000]\n",
    "#                       }\n",
    "\n",
    "# search = HalvingRandomSearchCV(xgb, param_distributions,\n",
    "#                                resource = \"n_estimators\",\n",
    "#                                max_resources=12,\n",
    "#                                random_state=0).fit(X_train, y_train.ravel())\n",
    "# search.best_params_"
   ]
  },
  {
   "cell_type": "code",
   "execution_count": 10,
   "metadata": {},
   "outputs": [],
   "source": [
    "from sklearn.ensemble import GradientBoostingRegressor\n",
    "model = GradientBoostingRegressor(n_estimators=1000, learning_rate=0.75,\n",
    "        max_depth=5, random_state=0, loss='ls')"
   ]
  },
  {
   "cell_type": "code",
   "execution_count": 11,
   "metadata": {},
   "outputs": [],
   "source": [
    "# import xgboost as xgb\n",
    "# model = xgb.XGBRegressor(n_estimators=1000, learning_rate=0.75,\n",
    "#         max_depth=5, random_state=0)"
   ]
  },
  {
   "cell_type": "code",
   "execution_count": 12,
   "metadata": {},
   "outputs": [],
   "source": [
    "# from sklearn.ensemble import AdaBoostRegressor\n",
    "# ada = AdaBoostRegressor(random_state=0, n_estimators=1000, learning_rate = 0.75)"
   ]
  },
  {
   "cell_type": "code",
   "execution_count": 13,
   "metadata": {},
   "outputs": [
    {
     "data": {
      "text/plain": [
       "GradientBoostingRegressor(learning_rate=0.75, max_depth=5, n_estimators=1000,\n",
       "                          random_state=0)"
      ]
     },
     "execution_count": 13,
     "metadata": {},
     "output_type": "execute_result"
    }
   ],
   "source": [
    "model.fit(X_train, y_train.ravel())"
   ]
  },
  {
   "cell_type": "code",
   "execution_count": 14,
   "metadata": {},
   "outputs": [],
   "source": [
    "y_pred = model.predict(X_test)"
   ]
  },
  {
   "cell_type": "code",
   "execution_count": 15,
   "metadata": {},
   "outputs": [
    {
     "data": {
      "text/plain": [
       "0.0015914507351017875"
      ]
     },
     "execution_count": 15,
     "metadata": {},
     "output_type": "execute_result"
    }
   ],
   "source": [
    "from sklearn.metrics import mean_squared_error\n",
    "mean_squared_error(y_test, y_pred)"
   ]
  },
  {
   "cell_type": "code",
   "execution_count": 16,
   "metadata": {},
   "outputs": [
    {
     "data": {
      "text/plain": [
       "-9.645950001479802"
      ]
     },
     "execution_count": 16,
     "metadata": {},
     "output_type": "execute_result"
    }
   ],
   "source": [
    "model.score(X_test, y_test)"
   ]
  },
  {
   "cell_type": "code",
   "execution_count": 17,
   "metadata": {},
   "outputs": [],
   "source": [
    "predicted_value = scaler.inverse_transform(y_pred.reshape(-1,1))\n",
    "real_value = scaler.inverse_transform(y_test)"
   ]
  },
  {
   "cell_type": "code",
   "execution_count": 18,
   "metadata": {},
   "outputs": [
    {
     "data": {
      "text/html": [
       "<div>\n",
       "<style scoped>\n",
       "    .dataframe tbody tr th:only-of-type {\n",
       "        vertical-align: middle;\n",
       "    }\n",
       "\n",
       "    .dataframe tbody tr th {\n",
       "        vertical-align: top;\n",
       "    }\n",
       "\n",
       "    .dataframe thead th {\n",
       "        text-align: right;\n",
       "    }\n",
       "</style>\n",
       "<table border=\"1\" class=\"dataframe\">\n",
       "  <thead>\n",
       "    <tr style=\"text-align: right;\">\n",
       "      <th></th>\n",
       "      <th>Real</th>\n",
       "      <th>Predicted</th>\n",
       "    </tr>\n",
       "    <tr>\n",
       "      <th>date_time</th>\n",
       "      <th></th>\n",
       "      <th></th>\n",
       "    </tr>\n",
       "  </thead>\n",
       "  <tbody>\n",
       "    <tr>\n",
       "      <th>2021-03-12 14:41:00</th>\n",
       "      <td>-0.001199</td>\n",
       "      <td>-0.001012</td>\n",
       "    </tr>\n",
       "    <tr>\n",
       "      <th>2021-03-12 14:42:00</th>\n",
       "      <td>0.000000</td>\n",
       "      <td>0.000476</td>\n",
       "    </tr>\n",
       "    <tr>\n",
       "      <th>2021-03-12 14:43:00</th>\n",
       "      <td>0.001200</td>\n",
       "      <td>0.000089</td>\n",
       "    </tr>\n",
       "    <tr>\n",
       "      <th>2021-03-12 14:44:00</th>\n",
       "      <td>0.002398</td>\n",
       "      <td>-0.000546</td>\n",
       "    </tr>\n",
       "    <tr>\n",
       "      <th>2021-03-12 14:45:00</th>\n",
       "      <td>0.000000</td>\n",
       "      <td>-0.000040</td>\n",
       "    </tr>\n",
       "  </tbody>\n",
       "</table>\n",
       "</div>"
      ],
      "text/plain": [
       "                         Real  Predicted\n",
       "date_time                               \n",
       "2021-03-12 14:41:00 -0.001199  -0.001012\n",
       "2021-03-12 14:42:00  0.000000   0.000476\n",
       "2021-03-12 14:43:00  0.001200   0.000089\n",
       "2021-03-12 14:44:00  0.002398  -0.000546\n",
       "2021-03-12 14:45:00  0.000000  -0.000040"
      ]
     },
     "execution_count": 18,
     "metadata": {},
     "output_type": "execute_result"
    }
   ],
   "source": [
    "output = pd.DataFrame({\n",
    "    \"Real\": real_value.ravel(),\n",
    "    \"Predicted\": predicted_value.ravel()\n",
    "    }, index = combined_df.index[-len(real_value): ])\n",
    "output.head()"
   ]
  },
  {
   "cell_type": "code",
   "execution_count": 19,
   "metadata": {},
   "outputs": [
    {
     "data": {
      "text/plain": [
       "<AxesSubplot:xlabel='date_time'>"
      ]
     },
     "execution_count": 19,
     "metadata": {},
     "output_type": "execute_result"
    },
    {
     "data": {
      "image/png": "[encoded data removed]",
      "text/plain": [
       "<Figure size 1440x720 with 1 Axes>"
      ]
     },
     "metadata": {
      "needs_background": "light"
     },
     "output_type": "display_data"
    }
   ],
   "source": [
    "output.plot(figsize = (20,10))"
   ]
  },
  {
   "cell_type": "code",
   "execution_count": 20,
   "metadata": {},
   "outputs": [
    {
     "data": {
      "text/plain": [
       "array([13.79641791, 14.47605541, 11.71877695,  8.63067893,  9.75768259,\n",
       "        0.78332869,  1.38869421, 10.05334612, 24.34856064,  5.04645856])"
      ]
     },
     "execution_count": 20,
     "metadata": {},
     "output_type": "execute_result"
    }
   ],
   "source": [
    "model.feature_importances_ * 100"
   ]
  },
  {
   "cell_type": "code",
   "execution_count": 21,
   "metadata": {},
   "outputs": [
    {
     "data": {
      "text/html": [
       "<div>\n",
       "<style scoped>\n",
       "    .dataframe tbody tr th:only-of-type {\n",
       "        vertical-align: middle;\n",
       "    }\n",
       "\n",
       "    .dataframe tbody tr th {\n",
       "        vertical-align: top;\n",
       "    }\n",
       "\n",
       "    .dataframe thead th {\n",
       "        text-align: right;\n",
       "    }\n",
       "</style>\n",
       "<table border=\"1\" class=\"dataframe\">\n",
       "  <thead>\n",
       "    <tr style=\"text-align: right;\">\n",
       "      <th></th>\n",
       "      <th>Real</th>\n",
       "      <th>Predicted</th>\n",
       "    </tr>\n",
       "    <tr>\n",
       "      <th>date_time</th>\n",
       "      <th></th>\n",
       "      <th></th>\n",
       "    </tr>\n",
       "  </thead>\n",
       "  <tbody>\n",
       "    <tr>\n",
       "      <th>2021-03-12 14:41:00</th>\n",
       "      <td>-0.001199</td>\n",
       "      <td>-0.001012</td>\n",
       "    </tr>\n",
       "    <tr>\n",
       "      <th>2021-03-12 14:42:00</th>\n",
       "      <td>0.000000</td>\n",
       "      <td>0.000476</td>\n",
       "    </tr>\n",
       "    <tr>\n",
       "      <th>2021-03-12 14:43:00</th>\n",
       "      <td>0.001200</td>\n",
       "      <td>0.000089</td>\n",
       "    </tr>\n",
       "    <tr>\n",
       "      <th>2021-03-12 14:44:00</th>\n",
       "      <td>0.002398</td>\n",
       "      <td>-0.000546</td>\n",
       "    </tr>\n",
       "    <tr>\n",
       "      <th>2021-03-12 14:45:00</th>\n",
       "      <td>0.000000</td>\n",
       "      <td>-0.000040</td>\n",
       "    </tr>\n",
       "    <tr>\n",
       "      <th>...</th>\n",
       "      <td>...</td>\n",
       "      <td>...</td>\n",
       "    </tr>\n",
       "    <tr>\n",
       "      <th>2021-03-31 15:54:00</th>\n",
       "      <td>0.000000</td>\n",
       "      <td>-0.004669</td>\n",
       "    </tr>\n",
       "    <tr>\n",
       "      <th>2021-03-31 15:55:00</th>\n",
       "      <td>0.000000</td>\n",
       "      <td>-0.003200</td>\n",
       "    </tr>\n",
       "    <tr>\n",
       "      <th>2021-03-31 15:56:00</th>\n",
       "      <td>0.000000</td>\n",
       "      <td>-0.002716</td>\n",
       "    </tr>\n",
       "    <tr>\n",
       "      <th>2021-03-31 15:57:00</th>\n",
       "      <td>0.001261</td>\n",
       "      <td>-0.003786</td>\n",
       "    </tr>\n",
       "    <tr>\n",
       "      <th>2021-03-31 15:58:00</th>\n",
       "      <td>-0.001259</td>\n",
       "      <td>-0.008616</td>\n",
       "    </tr>\n",
       "  </tbody>\n",
       "</table>\n",
       "<p>5148 rows × 2 columns</p>\n",
       "</div>"
      ],
      "text/plain": [
       "                         Real  Predicted\n",
       "date_time                               \n",
       "2021-03-12 14:41:00 -0.001199  -0.001012\n",
       "2021-03-12 14:42:00  0.000000   0.000476\n",
       "2021-03-12 14:43:00  0.001200   0.000089\n",
       "2021-03-12 14:44:00  0.002398  -0.000546\n",
       "2021-03-12 14:45:00  0.000000  -0.000040\n",
       "...                       ...        ...\n",
       "2021-03-31 15:54:00  0.000000  -0.004669\n",
       "2021-03-31 15:55:00  0.000000  -0.003200\n",
       "2021-03-31 15:56:00  0.000000  -0.002716\n",
       "2021-03-31 15:57:00  0.001261  -0.003786\n",
       "2021-03-31 15:58:00 -0.001259  -0.008616\n",
       "\n",
       "[5148 rows x 2 columns]"
      ]
     },
     "execution_count": 21,
     "metadata": {},
     "output_type": "execute_result"
    }
   ],
   "source": [
    "output"
   ]
  },
  {
   "cell_type": "code",
   "execution_count": 22,
   "metadata": {},
   "outputs": [
    {
     "data": {
      "text/html": [
       "<div>\n",
       "<style scoped>\n",
       "    .dataframe tbody tr th:only-of-type {\n",
       "        vertical-align: middle;\n",
       "    }\n",
       "\n",
       "    .dataframe tbody tr th {\n",
       "        vertical-align: top;\n",
       "    }\n",
       "\n",
       "    .dataframe thead th {\n",
       "        text-align: right;\n",
       "    }\n",
       "</style>\n",
       "<table border=\"1\" class=\"dataframe\">\n",
       "  <thead>\n",
       "    <tr style=\"text-align: right;\">\n",
       "      <th></th>\n",
       "      <th>Real</th>\n",
       "      <th>Predicted</th>\n",
       "    </tr>\n",
       "  </thead>\n",
       "  <tbody>\n",
       "    <tr>\n",
       "      <th>count</th>\n",
       "      <td>5148.000000</td>\n",
       "      <td>5148.000000</td>\n",
       "    </tr>\n",
       "    <tr>\n",
       "      <th>mean</th>\n",
       "      <td>-0.000009</td>\n",
       "      <td>-0.002300</td>\n",
       "    </tr>\n",
       "    <tr>\n",
       "      <th>std</th>\n",
       "      <td>0.001570</td>\n",
       "      <td>0.004462</td>\n",
       "    </tr>\n",
       "    <tr>\n",
       "      <th>min</th>\n",
       "      <td>-0.044393</td>\n",
       "      <td>-0.016458</td>\n",
       "    </tr>\n",
       "    <tr>\n",
       "      <th>25%</th>\n",
       "      <td>-0.001159</td>\n",
       "      <td>-0.005084</td>\n",
       "    </tr>\n",
       "    <tr>\n",
       "      <th>50%</th>\n",
       "      <td>0.000000</td>\n",
       "      <td>-0.002329</td>\n",
       "    </tr>\n",
       "    <tr>\n",
       "      <th>75%</th>\n",
       "      <td>0.001076</td>\n",
       "      <td>0.000259</td>\n",
       "    </tr>\n",
       "    <tr>\n",
       "      <th>max</th>\n",
       "      <td>0.016607</td>\n",
       "      <td>0.041450</td>\n",
       "    </tr>\n",
       "  </tbody>\n",
       "</table>\n",
       "</div>"
      ],
      "text/plain": [
       "              Real    Predicted\n",
       "count  5148.000000  5148.000000\n",
       "mean     -0.000009    -0.002300\n",
       "std       0.001570     0.004462\n",
       "min      -0.044393    -0.016458\n",
       "25%      -0.001159    -0.005084\n",
       "50%       0.000000    -0.002329\n",
       "75%       0.001076     0.000259\n",
       "max       0.016607     0.041450"
      ]
     },
     "execution_count": 22,
     "metadata": {},
     "output_type": "execute_result"
    }
   ],
   "source": [
    "output.describe()"
   ]
  },
  {
   "cell_type": "code",
   "execution_count": 23,
   "metadata": {},
   "outputs": [
    {
     "data": {
      "text/plain": [
       "Real         -0.044036\n",
       "Predicted   -11.840638\n",
       "dtype: float64"
      ]
     },
     "execution_count": 23,
     "metadata": {},
     "output_type": "execute_result"
    }
   ],
   "source": [
    "output.sum()"
   ]
  },
  {
   "cell_type": "code",
   "execution_count": 24,
   "metadata": {},
   "outputs": [],
   "source": [
    "final_output = output.join(combined_df[['close']])\n",
    "final_output.to_csv(\"predictions.csv\")"
   ]
  },
  {
   "cell_type": "code",
   "execution_count": null,
   "metadata": {},
   "outputs": [],
   "source": []
  }
 ],
 "metadata": {
  "kernelspec": {
   "display_name": "Python [conda env:dlenv]",
   "language": "python",
   "name": "conda-env-dlenv-py"
  },
  "language_info": {
   "codemirror_mode": {
    "name": "ipython",
    "version": 3
   },
   "file_extension": ".py",
   "mimetype": "text/x-python",
   "name": "python",
   "nbconvert_exporter": "python",
   "pygments_lexer": "ipython3",
   "version": "3.7.9"
  }
 },
 "nbformat": 4,
 "nbformat_minor": 4
}
