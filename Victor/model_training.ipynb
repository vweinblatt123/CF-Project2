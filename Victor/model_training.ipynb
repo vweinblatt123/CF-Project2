{
 "cells": [
  {
   "cell_type": "code",
   "execution_count": 1,
   "metadata": {},
   "outputs": [],
   "source": [
    "import pandas as pd\n",
    "import numpy as np\n",
    "from pathlib import Path\n",
    "\n",
    "%matplotlib inline"
   ]
  },
  {
   "cell_type": "code",
   "execution_count": 2,
   "metadata": {},
   "outputs": [],
   "source": [
    "file_path = Path(\"all_features.csv\")\n",
    "combined_df = pd.read_csv(file_path, infer_datetime_format = True, parse_dates = True, index_col = \"date_time\")\n",
    "combined_df.sort_index(inplace=True)"
   ]
  },
  {
   "cell_type": "code",
   "execution_count": 3,
   "metadata": {},
   "outputs": [],
   "source": [
    "#combined_df['target_price'] = combined_df['close'].shift(-1)\n",
    "combined_df['target_return'] = combined_df['return'].shift(-1)\n",
    "combined_df = combined_df.dropna()"
   ]
  },
  {
   "cell_type": "code",
   "execution_count": 4,
   "metadata": {},
   "outputs": [
    {
     "data": {
      "text/html": [
       "<div>\n",
       "<style scoped>\n",
       "    .dataframe tbody tr th:only-of-type {\n",
       "        vertical-align: middle;\n",
       "    }\n",
       "\n",
       "    .dataframe tbody tr th {\n",
       "        vertical-align: top;\n",
       "    }\n",
       "\n",
       "    .dataframe thead th {\n",
       "        text-align: right;\n",
       "    }\n",
       "</style>\n",
       "<table border=\"1\" class=\"dataframe\">\n",
       "  <thead>\n",
       "    <tr style=\"text-align: right;\">\n",
       "      <th></th>\n",
       "      <th>close</th>\n",
       "      <th>vol</th>\n",
       "      <th>spy</th>\n",
       "      <th>return</th>\n",
       "      <th>Beta</th>\n",
       "      <th>WR</th>\n",
       "      <th>RSI</th>\n",
       "      <th>OBV</th>\n",
       "      <th>sentiment_vader</th>\n",
       "      <th>sentiment_rnn</th>\n",
       "      <th>us2y10y</th>\n",
       "      <th>vix</th>\n",
       "      <th>usdjpy</th>\n",
       "      <th>target_return</th>\n",
       "    </tr>\n",
       "    <tr>\n",
       "      <th>date_time</th>\n",
       "      <th></th>\n",
       "      <th></th>\n",
       "      <th></th>\n",
       "      <th></th>\n",
       "      <th></th>\n",
       "      <th></th>\n",
       "      <th></th>\n",
       "      <th></th>\n",
       "      <th></th>\n",
       "      <th></th>\n",
       "      <th></th>\n",
       "      <th></th>\n",
       "      <th></th>\n",
       "      <th></th>\n",
       "    </tr>\n",
       "  </thead>\n",
       "  <tbody>\n",
       "    <tr>\n",
       "      <th>2021-01-28 09:30:00</th>\n",
       "      <td>12.8550</td>\n",
       "      <td>13613460</td>\n",
       "      <td>376.500</td>\n",
       "      <td>-0.353208</td>\n",
       "      <td>-16.037653</td>\n",
       "      <td>0.000000</td>\n",
       "      <td>21.118340</td>\n",
       "      <td>43234860.0</td>\n",
       "      <td>-1.0</td>\n",
       "      <td>-1.0</td>\n",
       "      <td>91.536</td>\n",
       "      <td>30.21</td>\n",
       "      <td>104.36</td>\n",
       "      <td>0.054065</td>\n",
       "    </tr>\n",
       "    <tr>\n",
       "      <th>2021-01-28 09:31:00</th>\n",
       "      <td>13.5500</td>\n",
       "      <td>968001</td>\n",
       "      <td>376.780</td>\n",
       "      <td>0.054065</td>\n",
       "      <td>-15.464347</td>\n",
       "      <td>-100.000000</td>\n",
       "      <td>26.473885</td>\n",
       "      <td>44202861.0</td>\n",
       "      <td>1.0</td>\n",
       "      <td>1.0</td>\n",
       "      <td>91.536</td>\n",
       "      <td>30.17</td>\n",
       "      <td>104.33</td>\n",
       "      <td>0.000000</td>\n",
       "    </tr>\n",
       "    <tr>\n",
       "      <th>2021-01-28 09:32:00</th>\n",
       "      <td>13.5500</td>\n",
       "      <td>968001</td>\n",
       "      <td>376.760</td>\n",
       "      <td>0.000000</td>\n",
       "      <td>-15.409797</td>\n",
       "      <td>-90.099715</td>\n",
       "      <td>24.653967</td>\n",
       "      <td>45170862.0</td>\n",
       "      <td>0.0</td>\n",
       "      <td>0.0</td>\n",
       "      <td>91.536</td>\n",
       "      <td>30.24</td>\n",
       "      <td>104.31</td>\n",
       "      <td>0.000000</td>\n",
       "    </tr>\n",
       "    <tr>\n",
       "      <th>2021-01-28 09:33:00</th>\n",
       "      <td>13.5500</td>\n",
       "      <td>968001</td>\n",
       "      <td>377.040</td>\n",
       "      <td>0.000000</td>\n",
       "      <td>-15.310284</td>\n",
       "      <td>-90.099715</td>\n",
       "      <td>23.518120</td>\n",
       "      <td>46138863.0</td>\n",
       "      <td>0.0</td>\n",
       "      <td>0.0</td>\n",
       "      <td>91.706</td>\n",
       "      <td>29.96</td>\n",
       "      <td>104.30</td>\n",
       "      <td>0.000000</td>\n",
       "    </tr>\n",
       "    <tr>\n",
       "      <th>2021-01-28 09:34:00</th>\n",
       "      <td>13.5500</td>\n",
       "      <td>968001</td>\n",
       "      <td>376.830</td>\n",
       "      <td>0.000000</td>\n",
       "      <td>-15.296337</td>\n",
       "      <td>-90.099715</td>\n",
       "      <td>22.740886</td>\n",
       "      <td>47106864.0</td>\n",
       "      <td>0.0</td>\n",
       "      <td>0.0</td>\n",
       "      <td>91.875</td>\n",
       "      <td>29.75</td>\n",
       "      <td>104.31</td>\n",
       "      <td>0.000000</td>\n",
       "    </tr>\n",
       "    <tr>\n",
       "      <th>...</th>\n",
       "      <td>...</td>\n",
       "      <td>...</td>\n",
       "      <td>...</td>\n",
       "      <td>...</td>\n",
       "      <td>...</td>\n",
       "      <td>...</td>\n",
       "      <td>...</td>\n",
       "      <td>...</td>\n",
       "      <td>...</td>\n",
       "      <td>...</td>\n",
       "      <td>...</td>\n",
       "      <td>...</td>\n",
       "      <td>...</td>\n",
       "      <td>...</td>\n",
       "    </tr>\n",
       "    <tr>\n",
       "      <th>2021-03-31 15:54:00</th>\n",
       "      <td>10.1780</td>\n",
       "      <td>242191</td>\n",
       "      <td>396.600</td>\n",
       "      <td>-0.000363</td>\n",
       "      <td>2.186897</td>\n",
       "      <td>-26.600000</td>\n",
       "      <td>49.261448</td>\n",
       "      <td>300643273.0</td>\n",
       "      <td>0.0</td>\n",
       "      <td>0.0</td>\n",
       "      <td>157.321</td>\n",
       "      <td>18.89</td>\n",
       "      <td>110.75</td>\n",
       "      <td>-0.001769</td>\n",
       "    </tr>\n",
       "    <tr>\n",
       "      <th>2021-03-31 15:55:00</th>\n",
       "      <td>10.1600</td>\n",
       "      <td>101166</td>\n",
       "      <td>396.345</td>\n",
       "      <td>-0.001769</td>\n",
       "      <td>2.227686</td>\n",
       "      <td>-34.000000</td>\n",
       "      <td>43.296272</td>\n",
       "      <td>300542107.0</td>\n",
       "      <td>0.0</td>\n",
       "      <td>0.0</td>\n",
       "      <td>157.142</td>\n",
       "      <td>19.01</td>\n",
       "      <td>110.73</td>\n",
       "      <td>0.005896</td>\n",
       "    </tr>\n",
       "    <tr>\n",
       "      <th>2021-03-31 15:56:00</th>\n",
       "      <td>10.2199</td>\n",
       "      <td>308278</td>\n",
       "      <td>396.520</td>\n",
       "      <td>0.005896</td>\n",
       "      <td>2.453740</td>\n",
       "      <td>-79.973298</td>\n",
       "      <td>60.829715</td>\n",
       "      <td>300850385.0</td>\n",
       "      <td>0.0</td>\n",
       "      <td>0.0</td>\n",
       "      <td>156.964</td>\n",
       "      <td>18.99</td>\n",
       "      <td>110.73</td>\n",
       "      <td>0.000499</td>\n",
       "    </tr>\n",
       "    <tr>\n",
       "      <th>2021-03-31 15:57:00</th>\n",
       "      <td>10.2250</td>\n",
       "      <td>165293</td>\n",
       "      <td>396.520</td>\n",
       "      <td>0.000499</td>\n",
       "      <td>2.512879</td>\n",
       "      <td>-6.375000</td>\n",
       "      <td>61.770245</td>\n",
       "      <td>301015678.0</td>\n",
       "      <td>0.0</td>\n",
       "      <td>0.0</td>\n",
       "      <td>157.142</td>\n",
       "      <td>18.97</td>\n",
       "      <td>110.73</td>\n",
       "      <td>-0.001467</td>\n",
       "    </tr>\n",
       "    <tr>\n",
       "      <th>2021-03-31 15:58:00</th>\n",
       "      <td>10.2100</td>\n",
       "      <td>169608</td>\n",
       "      <td>396.830</td>\n",
       "      <td>-0.001467</td>\n",
       "      <td>2.245731</td>\n",
       "      <td>0.000000</td>\n",
       "      <td>53.616201</td>\n",
       "      <td>300846070.0</td>\n",
       "      <td>0.0</td>\n",
       "      <td>0.0</td>\n",
       "      <td>157.142</td>\n",
       "      <td>18.95</td>\n",
       "      <td>110.72</td>\n",
       "      <td>-0.000010</td>\n",
       "    </tr>\n",
       "  </tbody>\n",
       "</table>\n",
       "<p>17159 rows × 14 columns</p>\n",
       "</div>"
      ],
      "text/plain": [
       "                       close       vol      spy    return       Beta  \\\n",
       "date_time                                                              \n",
       "2021-01-28 09:30:00  12.8550  13613460  376.500 -0.353208 -16.037653   \n",
       "2021-01-28 09:31:00  13.5500    968001  376.780  0.054065 -15.464347   \n",
       "2021-01-28 09:32:00  13.5500    968001  376.760  0.000000 -15.409797   \n",
       "2021-01-28 09:33:00  13.5500    968001  377.040  0.000000 -15.310284   \n",
       "2021-01-28 09:34:00  13.5500    968001  376.830  0.000000 -15.296337   \n",
       "...                      ...       ...      ...       ...        ...   \n",
       "2021-03-31 15:54:00  10.1780    242191  396.600 -0.000363   2.186897   \n",
       "2021-03-31 15:55:00  10.1600    101166  396.345 -0.001769   2.227686   \n",
       "2021-03-31 15:56:00  10.2199    308278  396.520  0.005896   2.453740   \n",
       "2021-03-31 15:57:00  10.2250    165293  396.520  0.000499   2.512879   \n",
       "2021-03-31 15:58:00  10.2100    169608  396.830 -0.001467   2.245731   \n",
       "\n",
       "                             WR        RSI          OBV  sentiment_vader  \\\n",
       "date_time                                                                  \n",
       "2021-01-28 09:30:00    0.000000  21.118340   43234860.0             -1.0   \n",
       "2021-01-28 09:31:00 -100.000000  26.473885   44202861.0              1.0   \n",
       "2021-01-28 09:32:00  -90.099715  24.653967   45170862.0              0.0   \n",
       "2021-01-28 09:33:00  -90.099715  23.518120   46138863.0              0.0   \n",
       "2021-01-28 09:34:00  -90.099715  22.740886   47106864.0              0.0   \n",
       "...                         ...        ...          ...              ...   \n",
       "2021-03-31 15:54:00  -26.600000  49.261448  300643273.0              0.0   \n",
       "2021-03-31 15:55:00  -34.000000  43.296272  300542107.0              0.0   \n",
       "2021-03-31 15:56:00  -79.973298  60.829715  300850385.0              0.0   \n",
       "2021-03-31 15:57:00   -6.375000  61.770245  301015678.0              0.0   \n",
       "2021-03-31 15:58:00    0.000000  53.616201  300846070.0              0.0   \n",
       "\n",
       "                     sentiment_rnn  us2y10y    vix  usdjpy  target_return  \n",
       "date_time                                                                  \n",
       "2021-01-28 09:30:00           -1.0   91.536  30.21  104.36       0.054065  \n",
       "2021-01-28 09:31:00            1.0   91.536  30.17  104.33       0.000000  \n",
       "2021-01-28 09:32:00            0.0   91.536  30.24  104.31       0.000000  \n",
       "2021-01-28 09:33:00            0.0   91.706  29.96  104.30       0.000000  \n",
       "2021-01-28 09:34:00            0.0   91.875  29.75  104.31       0.000000  \n",
       "...                            ...      ...    ...     ...            ...  \n",
       "2021-03-31 15:54:00            0.0  157.321  18.89  110.75      -0.001769  \n",
       "2021-03-31 15:55:00            0.0  157.142  19.01  110.73       0.005896  \n",
       "2021-03-31 15:56:00            0.0  156.964  18.99  110.73       0.000499  \n",
       "2021-03-31 15:57:00            0.0  157.142  18.97  110.73      -0.001467  \n",
       "2021-03-31 15:58:00            0.0  157.142  18.95  110.72      -0.000010  \n",
       "\n",
       "[17159 rows x 14 columns]"
      ]
     },
     "execution_count": 4,
     "metadata": {},
     "output_type": "execute_result"
    }
   ],
   "source": [
    "combined_df"
   ]
  },
  {
   "cell_type": "code",
   "execution_count": 5,
   "metadata": {},
   "outputs": [],
   "source": [
    "X = combined_df[['return', 'Beta', 'WR', 'RSI', 'OBV', 'sentiment_vader', 'sentiment_rnn', 'us2y10y', 'vix', 'usdjpy']]"
   ]
  },
  {
   "cell_type": "code",
   "execution_count": 6,
   "metadata": {},
   "outputs": [],
   "source": [
    "target = combined_df.iloc[:,13]\n",
    "y = target.values.reshape(-1, 1)"
   ]
  },
  {
   "cell_type": "code",
   "execution_count": 7,
   "metadata": {},
   "outputs": [],
   "source": [
    "split = int(0.7 * len(X))\n",
    "\n",
    "X_train = X[: split]\n",
    "X_test = X[split:]\n",
    "\n",
    "y_train = y[: split]\n",
    "y_test = y[split:]"
   ]
  },
  {
   "cell_type": "code",
   "execution_count": 8,
   "metadata": {},
   "outputs": [],
   "source": [
    "# Importing the MinMaxScaler from sklearn\n",
    "from sklearn.preprocessing import MinMaxScaler\n",
    "\n",
    "# Create a MinMaxScaler object\n",
    "scaler = MinMaxScaler()\n",
    "\n",
    "# Fit the MinMaxScaler object with the features data X\n",
    "scaler.fit(X_train)\n",
    "\n",
    "# Scale the features training and testing sets\n",
    "X_train = scaler.transform(X_train)\n",
    "X_test = scaler.transform(X_test)\n",
    "\n",
    "# Fit the MinMaxScaler object with the target data Y\n",
    "scaler.fit(y_train)\n",
    "\n",
    "# Scale the target training and testing sets\n",
    "y_train = scaler.transform(y_train)\n",
    "y_test = scaler.transform(y_test)"
   ]
  },
  {
   "cell_type": "code",
   "execution_count": 9,
   "metadata": {},
   "outputs": [],
   "source": [
    "from sklearn.experimental import enable_halving_search_cv \n",
    "from sklearn.model_selection import HalvingRandomSearchCV\n",
    "from sklearn.ensemble import GradientBoostingRegressor\n",
    "\n",
    "xgb = GradientBoostingRegressor(random_state=0, loss='ls')\n",
    "\n",
    "param_distributions = {\"max_depth\": [3, 5, 10],\n",
    "                        \"learning_rate\": [0.01, 0.1, 0.5, 0.75],\n",
    "                       #\"n_estimators\": [10, 100, 1000]\n",
    "                      }\n",
    "\n",
    "search = HalvingRandomSearchCV(xgb, param_distributions,\n",
    "                               resource = \"n_estimators\",\n",
    "                               max_resources=12,\n",
    "                               random_state=0).fit(X_train, y_train.ravel())"
   ]
  },
  {
   "cell_type": "code",
   "execution_count": 10,
   "metadata": {},
   "outputs": [
    {
     "data": {
      "text/plain": [
       "{'max_depth': 3, 'learning_rate': 0.01, 'n_estimators': 9}"
      ]
     },
     "execution_count": 10,
     "metadata": {},
     "output_type": "execute_result"
    }
   ],
   "source": [
    "search.best_params_"
   ]
  },
  {
   "cell_type": "code",
   "execution_count": 11,
   "metadata": {},
   "outputs": [],
   "source": [
    "from sklearn.ensemble import GradientBoostingRegressor\n",
    "model = GradientBoostingRegressor(n_estimators=1000, learning_rate=0.75,\n",
    "        max_depth=5, random_state=0, loss='ls')"
   ]
  },
  {
   "cell_type": "code",
   "execution_count": 12,
   "metadata": {},
   "outputs": [],
   "source": [
    "from sklearn.ensemble import AdaBoostRegressor\n",
    "ada = AdaBoostRegressor(random_state=0, n_estimators=1000, learning_rate = 0.75)"
   ]
  },
  {
   "cell_type": "code",
   "execution_count": 13,
   "metadata": {},
   "outputs": [
    {
     "data": {
      "text/plain": [
       "GradientBoostingRegressor(learning_rate=0.75, max_depth=5, n_estimators=1000,\n",
       "                          random_state=0)"
      ]
     },
     "execution_count": 13,
     "metadata": {},
     "output_type": "execute_result"
    }
   ],
   "source": [
    "model.fit(X_train, y_train.ravel())"
   ]
  },
  {
   "cell_type": "code",
   "execution_count": 14,
   "metadata": {},
   "outputs": [],
   "source": [
    "y_pred = model.predict(X_test)"
   ]
  },
  {
   "cell_type": "code",
   "execution_count": 15,
   "metadata": {},
   "outputs": [
    {
     "data": {
      "text/plain": [
       "0.00277203044913624"
      ]
     },
     "execution_count": 15,
     "metadata": {},
     "output_type": "execute_result"
    }
   ],
   "source": [
    "from sklearn.metrics import mean_squared_error\n",
    "mean_squared_error(y_test, y_pred)"
   ]
  },
  {
   "cell_type": "code",
   "execution_count": 16,
   "metadata": {},
   "outputs": [
    {
     "data": {
      "text/plain": [
       "-142.5951787694426"
      ]
     },
     "execution_count": 16,
     "metadata": {},
     "output_type": "execute_result"
    }
   ],
   "source": [
    "model.score(X_test, y_test)"
   ]
  },
  {
   "cell_type": "code",
   "execution_count": 17,
   "metadata": {},
   "outputs": [],
   "source": [
    "predicted_value = scaler.inverse_transform(y_pred.reshape(-1,1))\n",
    "real_value = scaler.inverse_transform(y_test)"
   ]
  },
  {
   "cell_type": "code",
   "execution_count": 18,
   "metadata": {},
   "outputs": [
    {
     "data": {
      "text/html": [
       "<div>\n",
       "<style scoped>\n",
       "    .dataframe tbody tr th:only-of-type {\n",
       "        vertical-align: middle;\n",
       "    }\n",
       "\n",
       "    .dataframe tbody tr th {\n",
       "        vertical-align: top;\n",
       "    }\n",
       "\n",
       "    .dataframe thead th {\n",
       "        text-align: right;\n",
       "    }\n",
       "</style>\n",
       "<table border=\"1\" class=\"dataframe\">\n",
       "  <thead>\n",
       "    <tr style=\"text-align: right;\">\n",
       "      <th></th>\n",
       "      <th>Real</th>\n",
       "      <th>Predicted</th>\n",
       "    </tr>\n",
       "    <tr>\n",
       "      <th>date_time</th>\n",
       "      <th></th>\n",
       "      <th></th>\n",
       "    </tr>\n",
       "  </thead>\n",
       "  <tbody>\n",
       "    <tr>\n",
       "      <th>2021-03-12 14:41:00</th>\n",
       "      <td>-0.002116</td>\n",
       "      <td>0.002374</td>\n",
       "    </tr>\n",
       "    <tr>\n",
       "      <th>2021-03-12 14:42:00</th>\n",
       "      <td>-0.001907</td>\n",
       "      <td>0.000845</td>\n",
       "    </tr>\n",
       "    <tr>\n",
       "      <th>2021-03-12 14:43:00</th>\n",
       "      <td>-0.000250</td>\n",
       "      <td>0.002712</td>\n",
       "    </tr>\n",
       "    <tr>\n",
       "      <th>2021-03-12 14:44:00</th>\n",
       "      <td>-0.001518</td>\n",
       "      <td>0.002914</td>\n",
       "    </tr>\n",
       "    <tr>\n",
       "      <th>2021-03-12 14:45:00</th>\n",
       "      <td>0.002531</td>\n",
       "      <td>-0.005444</td>\n",
       "    </tr>\n",
       "  </tbody>\n",
       "</table>\n",
       "</div>"
      ],
      "text/plain": [
       "                         Real  Predicted\n",
       "date_time                               \n",
       "2021-03-12 14:41:00 -0.002116   0.002374\n",
       "2021-03-12 14:42:00 -0.001907   0.000845\n",
       "2021-03-12 14:43:00 -0.000250   0.002712\n",
       "2021-03-12 14:44:00 -0.001518   0.002914\n",
       "2021-03-12 14:45:00  0.002531  -0.005444"
      ]
     },
     "execution_count": 18,
     "metadata": {},
     "output_type": "execute_result"
    }
   ],
   "source": [
    "output = pd.DataFrame({\n",
    "    \"Real\": real_value.ravel(),\n",
    "    \"Predicted\": predicted_value.ravel()\n",
    "    }, index = combined_df.index[-len(real_value): ])\n",
    "output.head()"
   ]
  },
  {
   "cell_type": "code",
   "execution_count": 19,
   "metadata": {},
   "outputs": [
    {
     "data": {
      "text/plain": [
       "<AxesSubplot:xlabel='date_time'>"
      ]
     },
     "execution_count": 19,
     "metadata": {},
     "output_type": "execute_result"
    },
    {
     "data": {
      "image/png": "[encoded data removed]",
      "text/plain": [
       "<Figure size 1440x720 with 1 Axes>"
      ]
     },
     "metadata": {
      "needs_background": "light"
     },
     "output_type": "display_data"
    }
   ],
   "source": [
    "output.plot(figsize = (20,10))"
   ]
  },
  {
   "cell_type": "code",
   "execution_count": 20,
   "metadata": {},
   "outputs": [
    {
     "data": {
      "text/plain": [
       "array([10.82830242,  8.6549933 ,  5.6972343 ,  9.53208269,  8.26998602,\n",
       "        2.47771489,  1.61350123, 14.88649625, 31.35620599,  6.68348292])"
      ]
     },
     "execution_count": 20,
     "metadata": {},
     "output_type": "execute_result"
    }
   ],
   "source": [
    "model.feature_importances_ * 100"
   ]
  },
  {
   "cell_type": "code",
   "execution_count": 21,
   "metadata": {},
   "outputs": [
    {
     "data": {
      "text/html": [
       "<div>\n",
       "<style scoped>\n",
       "    .dataframe tbody tr th:only-of-type {\n",
       "        vertical-align: middle;\n",
       "    }\n",
       "\n",
       "    .dataframe tbody tr th {\n",
       "        vertical-align: top;\n",
       "    }\n",
       "\n",
       "    .dataframe thead th {\n",
       "        text-align: right;\n",
       "    }\n",
       "</style>\n",
       "<table border=\"1\" class=\"dataframe\">\n",
       "  <thead>\n",
       "    <tr style=\"text-align: right;\">\n",
       "      <th></th>\n",
       "      <th>Real</th>\n",
       "      <th>Predicted</th>\n",
       "    </tr>\n",
       "    <tr>\n",
       "      <th>date_time</th>\n",
       "      <th></th>\n",
       "      <th></th>\n",
       "    </tr>\n",
       "  </thead>\n",
       "  <tbody>\n",
       "    <tr>\n",
       "      <th>2021-03-12 14:41:00</th>\n",
       "      <td>-0.002116</td>\n",
       "      <td>0.002374</td>\n",
       "    </tr>\n",
       "    <tr>\n",
       "      <th>2021-03-12 14:42:00</th>\n",
       "      <td>-0.001907</td>\n",
       "      <td>0.000845</td>\n",
       "    </tr>\n",
       "    <tr>\n",
       "      <th>2021-03-12 14:43:00</th>\n",
       "      <td>-0.000250</td>\n",
       "      <td>0.002712</td>\n",
       "    </tr>\n",
       "    <tr>\n",
       "      <th>2021-03-12 14:44:00</th>\n",
       "      <td>-0.001518</td>\n",
       "      <td>0.002914</td>\n",
       "    </tr>\n",
       "    <tr>\n",
       "      <th>2021-03-12 14:45:00</th>\n",
       "      <td>0.002531</td>\n",
       "      <td>-0.005444</td>\n",
       "    </tr>\n",
       "    <tr>\n",
       "      <th>...</th>\n",
       "      <td>...</td>\n",
       "      <td>...</td>\n",
       "    </tr>\n",
       "    <tr>\n",
       "      <th>2021-03-31 15:54:00</th>\n",
       "      <td>-0.001769</td>\n",
       "      <td>0.043170</td>\n",
       "    </tr>\n",
       "    <tr>\n",
       "      <th>2021-03-31 15:55:00</th>\n",
       "      <td>0.005896</td>\n",
       "      <td>0.046270</td>\n",
       "    </tr>\n",
       "    <tr>\n",
       "      <th>2021-03-31 15:56:00</th>\n",
       "      <td>0.000499</td>\n",
       "      <td>0.056596</td>\n",
       "    </tr>\n",
       "    <tr>\n",
       "      <th>2021-03-31 15:57:00</th>\n",
       "      <td>-0.001467</td>\n",
       "      <td>0.052002</td>\n",
       "    </tr>\n",
       "    <tr>\n",
       "      <th>2021-03-31 15:58:00</th>\n",
       "      <td>-0.000010</td>\n",
       "      <td>0.038199</td>\n",
       "    </tr>\n",
       "  </tbody>\n",
       "</table>\n",
       "<p>5148 rows × 2 columns</p>\n",
       "</div>"
      ],
      "text/plain": [
       "                         Real  Predicted\n",
       "date_time                               \n",
       "2021-03-12 14:41:00 -0.002116   0.002374\n",
       "2021-03-12 14:42:00 -0.001907   0.000845\n",
       "2021-03-12 14:43:00 -0.000250   0.002712\n",
       "2021-03-12 14:44:00 -0.001518   0.002914\n",
       "2021-03-12 14:45:00  0.002531  -0.005444\n",
       "...                       ...        ...\n",
       "2021-03-31 15:54:00 -0.001769   0.043170\n",
       "2021-03-31 15:55:00  0.005896   0.046270\n",
       "2021-03-31 15:56:00  0.000499   0.056596\n",
       "2021-03-31 15:57:00 -0.001467   0.052002\n",
       "2021-03-31 15:58:00 -0.000010   0.038199\n",
       "\n",
       "[5148 rows x 2 columns]"
      ]
     },
     "execution_count": 21,
     "metadata": {},
     "output_type": "execute_result"
    }
   ],
   "source": [
    "output"
   ]
  },
  {
   "cell_type": "code",
   "execution_count": 22,
   "metadata": {},
   "outputs": [
    {
     "data": {
      "text/html": [
       "<div>\n",
       "<style scoped>\n",
       "    .dataframe tbody tr th:only-of-type {\n",
       "        vertical-align: middle;\n",
       "    }\n",
       "\n",
       "    .dataframe tbody tr th {\n",
       "        vertical-align: top;\n",
       "    }\n",
       "\n",
       "    .dataframe thead th {\n",
       "        text-align: right;\n",
       "    }\n",
       "</style>\n",
       "<table border=\"1\" class=\"dataframe\">\n",
       "  <thead>\n",
       "    <tr style=\"text-align: right;\">\n",
       "      <th></th>\n",
       "      <th>Real</th>\n",
       "      <th>Predicted</th>\n",
       "    </tr>\n",
       "  </thead>\n",
       "  <tbody>\n",
       "    <tr>\n",
       "      <th>count</th>\n",
       "      <td>5148.000000</td>\n",
       "      <td>5148.000000</td>\n",
       "    </tr>\n",
       "    <tr>\n",
       "      <th>mean</th>\n",
       "      <td>-0.000009</td>\n",
       "      <td>0.027909</td>\n",
       "    </tr>\n",
       "    <tr>\n",
       "      <th>std</th>\n",
       "      <td>0.004449</td>\n",
       "      <td>0.045083</td>\n",
       "    </tr>\n",
       "    <tr>\n",
       "      <th>min</th>\n",
       "      <td>-0.082864</td>\n",
       "      <td>-0.094183</td>\n",
       "    </tr>\n",
       "    <tr>\n",
       "      <th>25%</th>\n",
       "      <td>-0.001629</td>\n",
       "      <td>-0.011448</td>\n",
       "    </tr>\n",
       "    <tr>\n",
       "      <th>50%</th>\n",
       "      <td>0.000000</td>\n",
       "      <td>0.032288</td>\n",
       "    </tr>\n",
       "    <tr>\n",
       "      <th>75%</th>\n",
       "      <td>0.001603</td>\n",
       "      <td>0.056306</td>\n",
       "    </tr>\n",
       "    <tr>\n",
       "      <th>max</th>\n",
       "      <td>0.078546</td>\n",
       "      <td>0.169367</td>\n",
       "    </tr>\n",
       "  </tbody>\n",
       "</table>\n",
       "</div>"
      ],
      "text/plain": [
       "              Real    Predicted\n",
       "count  5148.000000  5148.000000\n",
       "mean     -0.000009     0.027909\n",
       "std       0.004449     0.045083\n",
       "min      -0.082864    -0.094183\n",
       "25%      -0.001629    -0.011448\n",
       "50%       0.000000     0.032288\n",
       "75%       0.001603     0.056306\n",
       "max       0.078546     0.169367"
      ]
     },
     "execution_count": 22,
     "metadata": {},
     "output_type": "execute_result"
    }
   ],
   "source": [
    "output.describe()"
   ]
  },
  {
   "cell_type": "code",
   "execution_count": 23,
   "metadata": {},
   "outputs": [
    {
     "data": {
      "text/plain": [
       "Real          -0.045556\n",
       "Predicted    143.673332\n",
       "dtype: float64"
      ]
     },
     "execution_count": 23,
     "metadata": {},
     "output_type": "execute_result"
    }
   ],
   "source": [
    "output.sum()"
   ]
  },
  {
   "cell_type": "code",
   "execution_count": 24,
   "metadata": {},
   "outputs": [],
   "source": [
    "final_output = output.join(combined_df[['close']])\n",
    "final_output.to_csv(\"predictions.csv\")"
   ]
  },
  {
   "cell_type": "code",
   "execution_count": null,
   "metadata": {},
   "outputs": [],
   "source": []
  }
 ],
 "metadata": {
  "kernelspec": {
   "display_name": "Python [conda env:dlenv]",
   "language": "python",
   "name": "conda-env-dlenv-py"
  },
  "language_info": {
   "codemirror_mode": {
    "name": "ipython",
    "version": 3
   },
   "file_extension": ".py",
   "mimetype": "text/x-python",
   "name": "python",
   "nbconvert_exporter": "python",
   "pygments_lexer": "ipython3",
   "version": "3.7.9"
  }
 },
 "nbformat": 4,
 "nbformat_minor": 4
}
