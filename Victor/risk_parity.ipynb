{
 "cells": [
  {
   "cell_type": "code",
   "execution_count": 1,
   "metadata": {},
   "outputs": [],
   "source": [
    "import pandas as pd\n",
    "import numpy as np\n",
    "from pathlib import Path\n",
    "\n",
    "%matplotlib inline"
   ]
  },
  {
   "cell_type": "code",
   "execution_count": 2,
   "metadata": {},
   "outputs": [],
   "source": [
    "file_path = Path(\"Output/signals_AMC.csv\")\n",
    "df_amc = pd.read_csv(file_path, infer_datetime_format = True, parse_dates = True, index_col = \"date_time\")\n",
    "df_amc.sort_index(inplace=True)\n",
    "df_amc = df_amc[['Portfolio Minute Returns']]\n",
    "df_amc.columns = [\"AMC\"]"
   ]
  },
  {
   "cell_type": "code",
   "execution_count": 3,
   "metadata": {},
   "outputs": [],
   "source": [
    "file_path = Path(\"Output/signals_BB.csv\")\n",
    "df_bb = pd.read_csv(file_path, infer_datetime_format = True, parse_dates = True, index_col = \"date_time\")\n",
    "df_bb.sort_index(inplace=True)\n",
    "df_bb = df_bb[['Portfolio Minute Returns']]\n",
    "df_bb.columns = [\"BB\"]"
   ]
  },
  {
   "cell_type": "code",
   "execution_count": 4,
   "metadata": {},
   "outputs": [],
   "source": [
    "file_path = Path(\"Output/signals_BBBY.csv\")\n",
    "df_bbby = pd.read_csv(file_path, infer_datetime_format = True, parse_dates = True, index_col = \"date_time\")\n",
    "df_bbby.sort_index(inplace=True)\n",
    "df_bbby = df_bbby[['Portfolio Minute Returns']]\n",
    "df_bbby.columns = [\"BBBY\"]"
   ]
  },
  {
   "cell_type": "code",
   "execution_count": 5,
   "metadata": {},
   "outputs": [],
   "source": [
    "file_path = Path(\"Output/signals_GME.csv\")\n",
    "df_gme = pd.read_csv(file_path, infer_datetime_format = True, parse_dates = True, index_col = \"date_time\")\n",
    "df_gme.sort_index(inplace=True)\n",
    "df_gme = df_gme[['Portfolio Minute Returns']]\n",
    "df_gme.columns = [\"GME\"]"
   ]
  },
  {
   "cell_type": "code",
   "execution_count": 6,
   "metadata": {},
   "outputs": [],
   "source": [
    "file_path = Path(\"Output/signals_NOK.csv\")\n",
    "df_nok = pd.read_csv(file_path, infer_datetime_format = True, parse_dates = True, index_col = \"date_time\")\n",
    "df_nok.sort_index(inplace=True)\n",
    "df_nok = df_nok[['Portfolio Minute Returns']]\n",
    "df_nok.columns = [\"NOK\"]"
   ]
  },
  {
   "cell_type": "code",
   "execution_count": 7,
   "metadata": {},
   "outputs": [],
   "source": [
    "df_data = df_amc.join(df_bb).join(df_bbby).join(df_gme).join(df_nok)\n",
    "df_data.dropna(inplace=True)"
   ]
  },
  {
   "cell_type": "code",
   "execution_count": 8,
   "metadata": {},
   "outputs": [],
   "source": [
    "df_data[\"AMC Vol\"]  = df_data[\"AMC\"].rolling(390).std() * np.sqrt(390) * np.sqrt(252)\n",
    "df_data[\"BB Vol\"]   = df_data[\"BB\"].rolling(390).std() * np.sqrt(390) * np.sqrt(252)\n",
    "df_data[\"BBBY Vol\"] = df_data[\"BBBY\"].rolling(390).std() * np.sqrt(390) * np.sqrt(252)\n",
    "df_data[\"GME Vol\"]  = df_data[\"GME\"].rolling(390).std() * np.sqrt(390) * np.sqrt(252)\n",
    "df_data[\"NOK Vol\"]  = df_data[\"NOK\"].rolling(390).std() * np.sqrt(390) * np.sqrt(252)\n",
    "df_data.dropna(inplace=True)"
   ]
  },
  {
   "cell_type": "code",
   "execution_count": 9,
   "metadata": {},
   "outputs": [],
   "source": [
    "df_data[\"AMC InvVol\"]  = 1 / df_data[\"AMC Vol\"]\n",
    "df_data[\"BB InvVol\"]   = 1 / df_data[\"BB Vol\"]\n",
    "df_data[\"BBBY InvVol\"] = 1 / df_data[\"BBBY Vol\"]\n",
    "df_data[\"GME InvVol\"]  = 1 / df_data[\"GME Vol\"]\n",
    "df_data[\"NOK InvVol\"]  = 1 / df_data[\"NOK Vol\"]"
   ]
  },
  {
   "cell_type": "code",
   "execution_count": 10,
   "metadata": {},
   "outputs": [],
   "source": [
    "df_data[\"Sum of InvVol\"] = df_data['AMC InvVol'] + df_data['BB InvVol'] +  df_data['BBBY InvVol'] +  df_data['GME InvVol'] +  df_data['NOK InvVol']"
   ]
  },
  {
   "cell_type": "code",
   "execution_count": 11,
   "metadata": {},
   "outputs": [],
   "source": [
    "portfolio_df = pd.DataFrame({'AMC Alloc': df_data['AMC InvVol']/df_data['Sum of InvVol'],\n",
    "                             'BB Alloc': df_data['BB InvVol']/df_data['Sum of InvVol'],\n",
    "                             'BBBY Alloc': df_data['BBBY InvVol']/df_data['Sum of InvVol'],\n",
    "                             'GME Alloc': df_data['GME InvVol']/df_data['Sum of InvVol'],\n",
    "                             'NOK Alloc': df_data['NOK InvVol']/df_data['Sum of InvVol'], }, index=df_data.index)"
   ]
  },
  {
   "cell_type": "code",
   "execution_count": 12,
   "metadata": {},
   "outputs": [],
   "source": [
    "portfolio_df['AMC Return']  = df_data['AMC'] * portfolio_df['AMC Alloc']\n",
    "portfolio_df['BB Return']   = df_data['BB'] * portfolio_df['BB Alloc']\n",
    "portfolio_df['BBBY Return'] = df_data['BBBY'] * portfolio_df['BBBY Alloc']\n",
    "portfolio_df['GME Return']  = df_data['GME'] * portfolio_df['GME Alloc']\n",
    "portfolio_df['NOK Return']  = df_data['NOK'] * portfolio_df['NOK Alloc']"
   ]
  },
  {
   "cell_type": "code",
   "execution_count": 13,
   "metadata": {},
   "outputs": [],
   "source": [
    "portfolio_df['Portfolio Return'] = portfolio_df['AMC Return'] + portfolio_df['BB Return'] + portfolio_df['BBBY Return'] + portfolio_df['GME Return'] + portfolio_df['NOK Return']"
   ]
  },
  {
   "cell_type": "code",
   "execution_count": 14,
   "metadata": {},
   "outputs": [],
   "source": [
    "portfolio_df['Portfolio Value'] = ((portfolio_df['Portfolio Return'] + 1).cumprod())*1e6"
   ]
  },
  {
   "cell_type": "code",
   "execution_count": 15,
   "metadata": {},
   "outputs": [
    {
     "data": {
      "text/plain": [
       "<matplotlib.axes._subplots.AxesSubplot at 0x1cd17eae0c8>"
      ]
     },
     "execution_count": 15,
     "metadata": {},
     "output_type": "execute_result"
    },
    {
     "data": {
      "image/png": "[encoded data removed]",
      "text/plain": [
       "<Figure size 432x288 with 1 Axes>"
      ]
     },
     "metadata": {
      "needs_background": "light"
     },
     "output_type": "display_data"
    }
   ],
   "source": [
    "portfolio_df['Portfolio Value'].plot()"
   ]
  },
  {
   "cell_type": "code",
   "execution_count": null,
   "metadata": {},
   "outputs": [],
   "source": []
  }
 ],
 "metadata": {
  "kernelspec": {
   "display_name": "Python [conda env:pyvizenv] *",
   "language": "python",
   "name": "conda-env-pyvizenv-py"
  },
  "language_info": {
   "codemirror_mode": {
    "name": "ipython",
    "version": 3
   },
   "file_extension": ".py",
   "mimetype": "text/x-python",
   "name": "python",
   "nbconvert_exporter": "python",
   "pygments_lexer": "ipython3",
   "version": "3.7.9"
  }
 },
 "nbformat": 4,
 "nbformat_minor": 4
}
